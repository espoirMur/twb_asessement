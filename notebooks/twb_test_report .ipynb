{
 "cells": [
  {
   "cell_type": "code",
   "execution_count": 28,
   "metadata": {},
   "outputs": [],
   "source": [
    "import pandas as pd \n",
    "import numpy as np"
   ]
  },
  {
   "cell_type": "markdown",
   "metadata": {},
   "source": [
    "### Reading the data"
   ]
  },
  {
   "cell_type": "code",
   "execution_count": 29,
   "metadata": {},
   "outputs": [],
   "source": [
    "twb_dataset = pd.read_excel('../data/Copy of twb-chatbot-data (1).xlsx')\n",
    "transperfect_dataset = pd.read_excel('../data/Covid-Utterances-en_US.xlsx')"
   ]
  },
  {
   "cell_type": "code",
   "execution_count": 30,
   "metadata": {},
   "outputs": [
    {
     "data": {
      "text/html": [
       "<div>\n",
       "<style scoped>\n",
       "    .dataframe tbody tr th:only-of-type {\n",
       "        vertical-align: middle;\n",
       "    }\n",
       "\n",
       "    .dataframe tbody tr th {\n",
       "        vertical-align: top;\n",
       "    }\n",
       "\n",
       "    .dataframe thead th {\n",
       "        text-align: right;\n",
       "    }\n",
       "</style>\n",
       "<table border=\"1\" class=\"dataframe\">\n",
       "  <thead>\n",
       "    <tr style=\"text-align: right;\">\n",
       "      <th></th>\n",
       "      <th>ask_for_stats</th>\n",
       "      <th>covid_call_a_doctor</th>\n",
       "      <th>covid_disinfect</th>\n",
       "      <th>covid_explain_pandemic</th>\n",
       "      <th>covid_gloves</th>\n",
       "      <th>covid_hospital</th>\n",
       "      <th>covid_how_spread</th>\n",
       "      <th>covid_infection_sources</th>\n",
       "      <th>covid_masks_how_to</th>\n",
       "      <th>covid_masks_effectiveness</th>\n",
       "      <th>...</th>\n",
       "      <th>covid_protection_wash_hands</th>\n",
       "      <th>covid_protection_keep_distance</th>\n",
       "      <th>covid_risk_most_at_risk</th>\n",
       "      <th>covid_SARS</th>\n",
       "      <th>covid_stress</th>\n",
       "      <th>covid_symptoms</th>\n",
       "      <th>covid_treatments</th>\n",
       "      <th>covid_wash_hands_how</th>\n",
       "      <th>covid_what_is_corona_covid-19</th>\n",
       "      <th>covid_myth_hot_tea</th>\n",
       "    </tr>\n",
       "  </thead>\n",
       "  <tbody>\n",
       "    <tr>\n",
       "      <th>0</th>\n",
       "      <td>What are the current COVID-19 statistics for DRC?</td>\n",
       "      <td>Where can I get tested?</td>\n",
       "      <td>Can disinfectant hurt me in any way?</td>\n",
       "      <td>What's a pandemic?</td>\n",
       "      <td>Should I wear gloves to protect against COVID?</td>\n",
       "      <td>Should I go to the hospital if I have corona?</td>\n",
       "      <td>How do people catch the virus?</td>\n",
       "      <td>I wanted to know the origin not the treatment</td>\n",
       "      <td>How should I wear a mask?</td>\n",
       "      <td>What kind of mask should I wear?</td>\n",
       "      <td>...</td>\n",
       "      <td>Why should you wash your hands?</td>\n",
       "      <td>Do I have to be away from people to avoid corona?</td>\n",
       "      <td>Why do whites die more than blacks?</td>\n",
       "      <td>Is corona SARS?</td>\n",
       "      <td>Are there any resources to help cope with stress?</td>\n",
       "      <td>What are the signs of Covid-19?</td>\n",
       "      <td>Do cold temperatures kill COVID-19?</td>\n",
       "      <td>Is sanitizer better than soap?</td>\n",
       "      <td>Are covid-19 and coronavirus the same thing?</td>\n",
       "      <td>It is also said that hot tea with ginger can c...</td>\n",
       "    </tr>\n",
       "    <tr>\n",
       "      <th>1</th>\n",
       "      <td>Statistics for DRC?</td>\n",
       "      <td>What should I do if I have symptoms?</td>\n",
       "      <td>Do I have to use disinfectant?</td>\n",
       "      <td>What's the difference between a pandemic and a...</td>\n",
       "      <td>Does wearing gloves help?</td>\n",
       "      <td>Do I need to visit a doctor if I have covid?</td>\n",
       "      <td>How do people catch the disease?</td>\n",
       "      <td>What is the origin of the coronavirus</td>\n",
       "      <td>Was your mask made here at home or from other ...</td>\n",
       "      <td>Anyone who wears a mask can't get a corona?</td>\n",
       "      <td>...</td>\n",
       "      <td>Why wash your hands?</td>\n",
       "      <td>How far should I be from people?</td>\n",
       "      <td>Why don't crazy people get coronavirus?</td>\n",
       "      <td>Is corona different from SARS?</td>\n",
       "      <td>How can I keep my mental health up during quar...</td>\n",
       "      <td>What are the symptoms</td>\n",
       "      <td>Has research found a cure for Covid-19?</td>\n",
       "      <td>Should I use sanitizer instead of soap?</td>\n",
       "      <td>Can you explain what coronavirus is?</td>\n",
       "      <td>hot tea, can it treat corona</td>\n",
       "    </tr>\n",
       "    <tr>\n",
       "      <th>2</th>\n",
       "      <td>What's the total number of people tested posit...</td>\n",
       "      <td>I have a dry cough and fever</td>\n",
       "      <td>Is drinking disinfectant bad for me?</td>\n",
       "      <td>What's the difference between a epidemic and a...</td>\n",
       "      <td>Will gloves protect me?</td>\n",
       "      <td>Should I just stay at home if i have the disease?</td>\n",
       "      <td>How can I catch the disease?</td>\n",
       "      <td>What country is COVID-19 from?</td>\n",
       "      <td>Do you have to wear a mask every day?</td>\n",
       "      <td>When does the mask help?</td>\n",
       "      <td>...</td>\n",
       "      <td>How should I wash my hands?\\n</td>\n",
       "      <td>Should I be away from anyone?</td>\n",
       "      <td>Is the coronavirus more dangerous to some people?</td>\n",
       "      <td>How is the coronavirus different from SARS?</td>\n",
       "      <td>How do I deal with stress during quarantine?</td>\n",
       "      <td>What are the signs of being sick with coronavi...</td>\n",
       "      <td>Can people be cured of COVID-19?</td>\n",
       "      <td>How long should I wash my hands?</td>\n",
       "      <td>Can you explain what COVID-19 is?</td>\n",
       "      <td>If someone takes hot tea they will not be infe...</td>\n",
       "    </tr>\n",
       "    <tr>\n",
       "      <th>3</th>\n",
       "      <td>How many people have tested positive for coron...</td>\n",
       "      <td>Should I call a doctor?</td>\n",
       "      <td>Should I drink disinfectant?</td>\n",
       "      <td>Why is coronavirus called a pandemic?</td>\n",
       "      <td>Are gloves a good idea?</td>\n",
       "      <td>Is it okay to not go to the hospital if I have...</td>\n",
       "      <td>How does the disease spread?</td>\n",
       "      <td>Where does Corona come from?</td>\n",
       "      <td>How should you wear a mask?</td>\n",
       "      <td>Does the mask send missiles to catch the coron...</td>\n",
       "      <td>...</td>\n",
       "      <td>How to wash your hands</td>\n",
       "      <td>NaN</td>\n",
       "      <td>NaN</td>\n",
       "      <td>NaN</td>\n",
       "      <td>NaN</td>\n",
       "      <td>NaN</td>\n",
       "      <td>NaN</td>\n",
       "      <td>NaN</td>\n",
       "      <td>NaN</td>\n",
       "      <td>NaN</td>\n",
       "    </tr>\n",
       "    <tr>\n",
       "      <th>4</th>\n",
       "      <td>If I am away from someone who is infected, I w...</td>\n",
       "      <td>Are there people more at risk of being harmed ...</td>\n",
       "      <td>Are there any differences between the coronavi...</td>\n",
       "      <td>What do I do against feeling stress during the...</td>\n",
       "      <td>Am I sick?</td>\n",
       "      <td>Is there anything that cures the corona virus?</td>\n",
       "      <td>What's the minimum time to wash hands?</td>\n",
       "      <td>Is COVID-19 and coronavirus the same?</td>\n",
       "      <td>Can I drink hot tea on the floor and not infec...</td>\n",
       "      <td>NaN</td>\n",
       "      <td>...</td>\n",
       "      <td>NaN</td>\n",
       "      <td>NaN</td>\n",
       "      <td>NaN</td>\n",
       "      <td>NaN</td>\n",
       "      <td>NaN</td>\n",
       "      <td>NaN</td>\n",
       "      <td>NaN</td>\n",
       "      <td>NaN</td>\n",
       "      <td>NaN</td>\n",
       "      <td>NaN</td>\n",
       "    </tr>\n",
       "  </tbody>\n",
       "</table>\n",
       "<p>5 rows × 25 columns</p>\n",
       "</div>"
      ],
      "text/plain": [
       "                                       ask_for_stats  \\\n",
       "0  What are the current COVID-19 statistics for DRC?   \n",
       "1                                Statistics for DRC?   \n",
       "2  What's the total number of people tested posit...   \n",
       "3  How many people have tested positive for coron...   \n",
       "4  If I am away from someone who is infected, I w...   \n",
       "\n",
       "                                 covid_call_a_doctor  \\\n",
       "0                            Where can I get tested?   \n",
       "1               What should I do if I have symptoms?   \n",
       "2                       I have a dry cough and fever   \n",
       "3                            Should I call a doctor?   \n",
       "4  Are there people more at risk of being harmed ...   \n",
       "\n",
       "                                     covid_disinfect  \\\n",
       "0               Can disinfectant hurt me in any way?   \n",
       "1                     Do I have to use disinfectant?   \n",
       "2               Is drinking disinfectant bad for me?   \n",
       "3                       Should I drink disinfectant?   \n",
       "4  Are there any differences between the coronavi...   \n",
       "\n",
       "                              covid_explain_pandemic  \\\n",
       "0                                 What's a pandemic?   \n",
       "1  What's the difference between a pandemic and a...   \n",
       "2  What's the difference between a epidemic and a...   \n",
       "3              Why is coronavirus called a pandemic?   \n",
       "4  What do I do against feeling stress during the...   \n",
       "\n",
       "                                     covid_gloves  \\\n",
       "0  Should I wear gloves to protect against COVID?   \n",
       "1                       Does wearing gloves help?   \n",
       "2                         Will gloves protect me?   \n",
       "3                         Are gloves a good idea?   \n",
       "4                                      Am I sick?   \n",
       "\n",
       "                                      covid_hospital  \\\n",
       "0      Should I go to the hospital if I have corona?   \n",
       "1       Do I need to visit a doctor if I have covid?   \n",
       "2  Should I just stay at home if i have the disease?   \n",
       "3  Is it okay to not go to the hospital if I have...   \n",
       "4     Is there anything that cures the corona virus?   \n",
       "\n",
       "                         covid_how_spread  \\\n",
       "0          How do people catch the virus?   \n",
       "1        How do people catch the disease?   \n",
       "2            How can I catch the disease?   \n",
       "3            How does the disease spread?   \n",
       "4  What's the minimum time to wash hands?   \n",
       "\n",
       "                         covid_infection_sources  \\\n",
       "0  I wanted to know the origin not the treatment   \n",
       "1          What is the origin of the coronavirus   \n",
       "2                 What country is COVID-19 from?   \n",
       "3                   Where does Corona come from?   \n",
       "4          Is COVID-19 and coronavirus the same?   \n",
       "\n",
       "                                  covid_masks_how_to  \\\n",
       "0                          How should I wear a mask?   \n",
       "1  Was your mask made here at home or from other ...   \n",
       "2              Do you have to wear a mask every day?   \n",
       "3                        How should you wear a mask?   \n",
       "4  Can I drink hot tea on the floor and not infec...   \n",
       "\n",
       "                           covid_masks_effectiveness  ...  \\\n",
       "0                   What kind of mask should I wear?  ...   \n",
       "1        Anyone who wears a mask can't get a corona?  ...   \n",
       "2                           When does the mask help?  ...   \n",
       "3  Does the mask send missiles to catch the coron...  ...   \n",
       "4                                                NaN  ...   \n",
       "\n",
       "       covid_protection_wash_hands  \\\n",
       "0  Why should you wash your hands?   \n",
       "1             Why wash your hands?   \n",
       "2    How should I wash my hands?\\n   \n",
       "3           How to wash your hands   \n",
       "4                              NaN   \n",
       "\n",
       "                      covid_protection_keep_distance  \\\n",
       "0  Do I have to be away from people to avoid corona?   \n",
       "1                   How far should I be from people?   \n",
       "2                      Should I be away from anyone?   \n",
       "3                                                NaN   \n",
       "4                                                NaN   \n",
       "\n",
       "                             covid_risk_most_at_risk  \\\n",
       "0                Why do whites die more than blacks?   \n",
       "1            Why don't crazy people get coronavirus?   \n",
       "2  Is the coronavirus more dangerous to some people?   \n",
       "3                                                NaN   \n",
       "4                                                NaN   \n",
       "\n",
       "                                    covid_SARS  \\\n",
       "0                              Is corona SARS?   \n",
       "1               Is corona different from SARS?   \n",
       "2  How is the coronavirus different from SARS?   \n",
       "3                                          NaN   \n",
       "4                                          NaN   \n",
       "\n",
       "                                        covid_stress  \\\n",
       "0  Are there any resources to help cope with stress?   \n",
       "1  How can I keep my mental health up during quar...   \n",
       "2       How do I deal with stress during quarantine?   \n",
       "3                                                NaN   \n",
       "4                                                NaN   \n",
       "\n",
       "                                      covid_symptoms  \\\n",
       "0                    What are the signs of Covid-19?   \n",
       "1                              What are the symptoms   \n",
       "2  What are the signs of being sick with coronavi...   \n",
       "3                                                NaN   \n",
       "4                                                NaN   \n",
       "\n",
       "                          covid_treatments  \\\n",
       "0      Do cold temperatures kill COVID-19?   \n",
       "1  Has research found a cure for Covid-19?   \n",
       "2         Can people be cured of COVID-19?   \n",
       "3                                      NaN   \n",
       "4                                      NaN   \n",
       "\n",
       "                      covid_wash_hands_how  \\\n",
       "0           Is sanitizer better than soap?   \n",
       "1  Should I use sanitizer instead of soap?   \n",
       "2         How long should I wash my hands?   \n",
       "3                                      NaN   \n",
       "4                                      NaN   \n",
       "\n",
       "                  covid_what_is_corona_covid-19  \\\n",
       "0  Are covid-19 and coronavirus the same thing?   \n",
       "1          Can you explain what coronavirus is?   \n",
       "2             Can you explain what COVID-19 is?   \n",
       "3                                           NaN   \n",
       "4                                           NaN   \n",
       "\n",
       "                                  covid_myth_hot_tea  \n",
       "0  It is also said that hot tea with ginger can c...  \n",
       "1                       hot tea, can it treat corona  \n",
       "2  If someone takes hot tea they will not be infe...  \n",
       "3                                                NaN  \n",
       "4                                                NaN  \n",
       "\n",
       "[5 rows x 25 columns]"
      ]
     },
     "execution_count": 30,
     "metadata": {},
     "output_type": "execute_result"
    }
   ],
   "source": [
    "twb_dataset.head()"
   ]
  },
  {
   "cell_type": "code",
   "execution_count": 31,
   "metadata": {},
   "outputs": [
    {
     "data": {
      "text/html": [
       "<div>\n",
       "<style scoped>\n",
       "    .dataframe tbody tr th:only-of-type {\n",
       "        vertical-align: middle;\n",
       "    }\n",
       "\n",
       "    .dataframe tbody tr th {\n",
       "        vertical-align: top;\n",
       "    }\n",
       "\n",
       "    .dataframe thead th {\n",
       "        text-align: right;\n",
       "    }\n",
       "</style>\n",
       "<table border=\"1\" class=\"dataframe\">\n",
       "  <thead>\n",
       "    <tr style=\"text-align: right;\">\n",
       "      <th></th>\n",
       "      <th>1. covid_intro</th>\n",
       "      <th>2. covid_origin</th>\n",
       "      <th>3. symptoms_info</th>\n",
       "      <th>4. symtptoms_have</th>\n",
       "      <th>5. emergency_contact</th>\n",
       "      <th>6. precautions</th>\n",
       "      <th>7. current_numbers</th>\n",
       "      <th>8. medication</th>\n",
       "      <th>9. myths_hoaxes</th>\n",
       "      <th>10. how_spreading</th>\n",
       "    </tr>\n",
       "  </thead>\n",
       "  <tbody>\n",
       "    <tr>\n",
       "      <th>0</th>\n",
       "      <td>Are corona virus and COVID-19 different?</td>\n",
       "      <td>Are Bats really the original cause of the viru...</td>\n",
       "      <td>Am I infected</td>\n",
       "      <td>Can the Corona virus cause fever?</td>\n",
       "      <td>Are there any emergency numbers for the corona...</td>\n",
       "      <td>\"Social distancing\"  means maintaining a dista...</td>\n",
       "      <td>a corona virus mutates 100 x faster than influ...</td>\n",
       "      <td>Are fruits, vegetables and herbs useful in fig...</td>\n",
       "      <td>Are Africans immune against covid-19</td>\n",
       "      <td>All outside contacts and physical proximity as...</td>\n",
       "    </tr>\n",
       "    <tr>\n",
       "      <th>1</th>\n",
       "      <td>are coronavirus and covid 19 the same</td>\n",
       "      <td>Can you explain how Covid19 started?</td>\n",
       "      <td>are coronavirus symptoms gradual</td>\n",
       "      <td>Can the fever I have, cause body aches?</td>\n",
       "      <td>Are there any means of contact for Covid19 pat...</td>\n",
       "      <td>Are masks effective against covid?</td>\n",
       "      <td>a map of the spread of the corona virus</td>\n",
       "      <td>Are there any existing medications I can take ...</td>\n",
       "      <td>Are children under a certain age immune to the...</td>\n",
       "      <td>Are people around my dog at risk for corona vi...</td>\n",
       "    </tr>\n",
       "    <tr>\n",
       "      <th>2</th>\n",
       "      <td>are coronaviruses common</td>\n",
       "      <td>Can you explain how the virus started?</td>\n",
       "      <td>are covid-19 antibody tests available yet</td>\n",
       "      <td>Can you tell me if having difficulties to brea...</td>\n",
       "      <td>Are there any other ways besides email or phon...</td>\n",
       "      <td>Are masks important during the Covid19 virus o...</td>\n",
       "      <td>a star singapore corona virus test</td>\n",
       "      <td>Are there any medicinal teas to help against t...</td>\n",
       "      <td>are coronavirus victims getting younger</td>\n",
       "      <td>Ask around how covid-19 can be transmited.</td>\n",
       "    </tr>\n",
       "    <tr>\n",
       "      <th>3</th>\n",
       "      <td>are coronaviruses seasonal</td>\n",
       "      <td>Can you explain how this virus came into exist...</td>\n",
       "      <td>are covid-19 stimulus checks taxable</td>\n",
       "      <td>Can you tell me if my coughing and sneezing ar...</td>\n",
       "      <td>Are there doctor numbers listed?</td>\n",
       "      <td>Are masks the only option for preventing Covid19?</td>\n",
       "      <td>Amount of people infected</td>\n",
       "      <td>Are there any Natural remedies that are effect...</td>\n",
       "      <td>Are young people immune to COVID-19?</td>\n",
       "      <td>Can animals spread covid-19?</td>\n",
       "    </tr>\n",
       "    <tr>\n",
       "      <th>4</th>\n",
       "      <td>can covid-19 mutate</td>\n",
       "      <td>Can you explain to me how the virus started?</td>\n",
       "      <td>Are COVID-19 symptoms similar to that of the flu?</td>\n",
       "      <td>Can you tell me if my difficulty to breathe is...</td>\n",
       "      <td>Are these the only numbers available in case o...</td>\n",
       "      <td>Are there any way to stop corona virus</td>\n",
       "      <td>Are all the countries in the world infected wi...</td>\n",
       "      <td>Are there medicines that make the virus more a...</td>\n",
       "      <td>Can a mosquito spread the Corona virus with it...</td>\n",
       "      <td>Can animals spread the covid-19 virus?</td>\n",
       "    </tr>\n",
       "  </tbody>\n",
       "</table>\n",
       "</div>"
      ],
      "text/plain": [
       "                            1. covid_intro   \\\n",
       "0  Are corona virus and COVID-19 different?   \n",
       "1     are coronavirus and covid 19 the same   \n",
       "2                  are coronaviruses common   \n",
       "3                are coronaviruses seasonal   \n",
       "4                       can covid-19 mutate   \n",
       "\n",
       "                                     2. covid_origin  \\\n",
       "0  Are Bats really the original cause of the viru...   \n",
       "1               Can you explain how Covid19 started?   \n",
       "2             Can you explain how the virus started?   \n",
       "3  Can you explain how this virus came into exist...   \n",
       "4       Can you explain to me how the virus started?   \n",
       "\n",
       "                                    3. symptoms_info  \\\n",
       "0                                      Am I infected   \n",
       "1                   are coronavirus symptoms gradual   \n",
       "2          are covid-19 antibody tests available yet   \n",
       "3               are covid-19 stimulus checks taxable   \n",
       "4  Are COVID-19 symptoms similar to that of the flu?   \n",
       "\n",
       "                                   4. symtptoms_have  \\\n",
       "0                  Can the Corona virus cause fever?   \n",
       "1            Can the fever I have, cause body aches?   \n",
       "2  Can you tell me if having difficulties to brea...   \n",
       "3  Can you tell me if my coughing and sneezing ar...   \n",
       "4  Can you tell me if my difficulty to breathe is...   \n",
       "\n",
       "                                5. emergency_contact  \\\n",
       "0  Are there any emergency numbers for the corona...   \n",
       "1  Are there any means of contact for Covid19 pat...   \n",
       "2  Are there any other ways besides email or phon...   \n",
       "3                   Are there doctor numbers listed?   \n",
       "4  Are these the only numbers available in case o...   \n",
       "\n",
       "                                      6. precautions  \\\n",
       "0  \"Social distancing\"  means maintaining a dista...   \n",
       "1                 Are masks effective against covid?   \n",
       "2  Are masks important during the Covid19 virus o...   \n",
       "3  Are masks the only option for preventing Covid19?   \n",
       "4             Are there any way to stop corona virus   \n",
       "\n",
       "                                  7. current_numbers  \\\n",
       "0  a corona virus mutates 100 x faster than influ...   \n",
       "1            a map of the spread of the corona virus   \n",
       "2                 a star singapore corona virus test   \n",
       "3                          Amount of people infected   \n",
       "4  Are all the countries in the world infected wi...   \n",
       "\n",
       "                                       8. medication  \\\n",
       "0  Are fruits, vegetables and herbs useful in fig...   \n",
       "1  Are there any existing medications I can take ...   \n",
       "2  Are there any medicinal teas to help against t...   \n",
       "3  Are there any Natural remedies that are effect...   \n",
       "4  Are there medicines that make the virus more a...   \n",
       "\n",
       "                                     9. myths_hoaxes  \\\n",
       "0               Are Africans immune against covid-19   \n",
       "1  Are children under a certain age immune to the...   \n",
       "2            are coronavirus victims getting younger   \n",
       "3               Are young people immune to COVID-19?   \n",
       "4  Can a mosquito spread the Corona virus with it...   \n",
       "\n",
       "                                   10. how_spreading  \n",
       "0  All outside contacts and physical proximity as...  \n",
       "1  Are people around my dog at risk for corona vi...  \n",
       "2         Ask around how covid-19 can be transmited.  \n",
       "3                       Can animals spread covid-19?  \n",
       "4             Can animals spread the covid-19 virus?  "
      ]
     },
     "execution_count": 31,
     "metadata": {},
     "output_type": "execute_result"
    }
   ],
   "source": [
    "transperfect_dataset.head()"
   ]
  },
  {
   "cell_type": "code",
   "execution_count": 32,
   "metadata": {},
   "outputs": [
    {
     "name": "stdout",
     "output_type": "stream",
     "text": [
      "(547, 10) (35, 25)\n"
     ]
    }
   ],
   "source": [
    "print(transperfect_dataset.shape, twb_dataset.shape)"
   ]
  },
  {
   "cell_type": "markdown",
   "metadata": {},
   "source": [
    "Here we can conclude that our dataset comes as a tabular form the first one has , the twb dataset has 547 row and 10 colums and the twbdataset has 35 colums."
   ]
  },
  {
   "cell_type": "markdown",
   "metadata": {},
   "source": [
    "let convert the dataset in the format readable to a machine learning model , the sentence will be be put in one colum and the second will be the intent .."
   ]
  },
  {
   "cell_type": "code",
   "execution_count": 33,
   "metadata": {},
   "outputs": [],
   "source": [
    "twb_dataset = pd.melt(twb_dataset, var_name='Intent', value_name='Question')"
   ]
  },
  {
   "cell_type": "code",
   "execution_count": 34,
   "metadata": {},
   "outputs": [],
   "source": [
    "twb_dataset = twb_dataset[twb_dataset.Question.notna()]"
   ]
  },
  {
   "cell_type": "code",
   "execution_count": 35,
   "metadata": {},
   "outputs": [
    {
     "data": {
      "text/html": [
       "<div>\n",
       "<style scoped>\n",
       "    .dataframe tbody tr th:only-of-type {\n",
       "        vertical-align: middle;\n",
       "    }\n",
       "\n",
       "    .dataframe tbody tr th {\n",
       "        vertical-align: top;\n",
       "    }\n",
       "\n",
       "    .dataframe thead th {\n",
       "        text-align: right;\n",
       "    }\n",
       "</style>\n",
       "<table border=\"1\" class=\"dataframe\">\n",
       "  <thead>\n",
       "    <tr style=\"text-align: right;\">\n",
       "      <th></th>\n",
       "      <th>Intent</th>\n",
       "      <th>Question</th>\n",
       "    </tr>\n",
       "  </thead>\n",
       "  <tbody>\n",
       "    <tr>\n",
       "      <th>0</th>\n",
       "      <td>ask_for_stats</td>\n",
       "      <td>What are the current COVID-19 statistics for DRC?</td>\n",
       "    </tr>\n",
       "    <tr>\n",
       "      <th>1</th>\n",
       "      <td>ask_for_stats</td>\n",
       "      <td>Statistics for DRC?</td>\n",
       "    </tr>\n",
       "    <tr>\n",
       "      <th>2</th>\n",
       "      <td>ask_for_stats</td>\n",
       "      <td>What's the total number of people tested posit...</td>\n",
       "    </tr>\n",
       "    <tr>\n",
       "      <th>3</th>\n",
       "      <td>ask_for_stats</td>\n",
       "      <td>How many people have tested positive for coron...</td>\n",
       "    </tr>\n",
       "    <tr>\n",
       "      <th>4</th>\n",
       "      <td>ask_for_stats</td>\n",
       "      <td>If I am away from someone who is infected, I w...</td>\n",
       "    </tr>\n",
       "  </tbody>\n",
       "</table>\n",
       "</div>"
      ],
      "text/plain": [
       "          Intent                                           Question\n",
       "0  ask_for_stats  What are the current COVID-19 statistics for DRC?\n",
       "1  ask_for_stats                                Statistics for DRC?\n",
       "2  ask_for_stats  What's the total number of people tested posit...\n",
       "3  ask_for_stats  How many people have tested positive for coron...\n",
       "4  ask_for_stats  If I am away from someone who is infected, I w..."
      ]
     },
     "execution_count": 35,
     "metadata": {},
     "output_type": "execute_result"
    }
   ],
   "source": [
    "twb_dataset.head()"
   ]
  },
  {
   "cell_type": "markdown",
   "metadata": {},
   "source": [
    "After doing some manipulation we have the dataset in the long format , with 2 columns one is the intent and the other one is the questions , and This is in the type \\X, \\Y format where the X is the question and the Y is the intent , this format is more suistable for any supervised machine learning technics.\n",
    "\n"
   ]
  },
  {
   "cell_type": "markdown",
   "metadata": {},
   "source": [
    "We can do the same for the transperfect dataset to prefor the same operation on the twb dataset ..."
   ]
  },
  {
   "cell_type": "code",
   "execution_count": 36,
   "metadata": {},
   "outputs": [],
   "source": [
    "transperfect_dataset = pd.melt(transperfect_dataset, var_name='Intent', value_name='Question')"
   ]
  },
  {
   "cell_type": "code",
   "execution_count": 37,
   "metadata": {},
   "outputs": [],
   "source": [
    "transperfect_dataset = transperfect_dataset[transperfect_dataset.Question.notna()]"
   ]
  },
  {
   "cell_type": "code",
   "execution_count": 38,
   "metadata": {},
   "outputs": [
    {
     "data": {
      "text/plain": [
       "(2498, 2)"
      ]
     },
     "execution_count": 38,
     "metadata": {},
     "output_type": "execute_result"
    }
   ],
   "source": [
    "transperfect_dataset.shape"
   ]
  },
  {
   "cell_type": "code",
   "execution_count": 39,
   "metadata": {},
   "outputs": [
    {
     "data": {
      "text/html": [
       "<div>\n",
       "<style scoped>\n",
       "    .dataframe tbody tr th:only-of-type {\n",
       "        vertical-align: middle;\n",
       "    }\n",
       "\n",
       "    .dataframe tbody tr th {\n",
       "        vertical-align: top;\n",
       "    }\n",
       "\n",
       "    .dataframe thead th {\n",
       "        text-align: right;\n",
       "    }\n",
       "</style>\n",
       "<table border=\"1\" class=\"dataframe\">\n",
       "  <thead>\n",
       "    <tr style=\"text-align: right;\">\n",
       "      <th></th>\n",
       "      <th>Intent</th>\n",
       "      <th>Question</th>\n",
       "    </tr>\n",
       "  </thead>\n",
       "  <tbody>\n",
       "    <tr>\n",
       "      <th>0</th>\n",
       "      <td>1. covid_intro</td>\n",
       "      <td>Are corona virus and COVID-19 different?</td>\n",
       "    </tr>\n",
       "    <tr>\n",
       "      <th>1</th>\n",
       "      <td>1. covid_intro</td>\n",
       "      <td>are coronavirus and covid 19 the same</td>\n",
       "    </tr>\n",
       "    <tr>\n",
       "      <th>2</th>\n",
       "      <td>1. covid_intro</td>\n",
       "      <td>are coronaviruses common</td>\n",
       "    </tr>\n",
       "    <tr>\n",
       "      <th>3</th>\n",
       "      <td>1. covid_intro</td>\n",
       "      <td>are coronaviruses seasonal</td>\n",
       "    </tr>\n",
       "    <tr>\n",
       "      <th>4</th>\n",
       "      <td>1. covid_intro</td>\n",
       "      <td>can covid-19 mutate</td>\n",
       "    </tr>\n",
       "  </tbody>\n",
       "</table>\n",
       "</div>"
      ],
      "text/plain": [
       "            Intent                                  Question\n",
       "0  1. covid_intro   Are corona virus and COVID-19 different?\n",
       "1  1. covid_intro      are coronavirus and covid 19 the same\n",
       "2  1. covid_intro                   are coronaviruses common\n",
       "3  1. covid_intro                 are coronaviruses seasonal\n",
       "4  1. covid_intro                        can covid-19 mutate"
      ]
     },
     "execution_count": 39,
     "metadata": {},
     "output_type": "execute_result"
    }
   ],
   "source": [
    "transperfect_dataset.head()"
   ]
  },
  {
   "cell_type": "markdown",
   "metadata": {},
   "source": [
    "At this stage we have 2 differents datasets with labels ready for a machine learning task, we can start doing our NLP preprocessing , "
   ]
  },
  {
   "cell_type": "markdown",
   "metadata": {},
   "source": [
    "But before moving futher, let see if there are any similar column between the dataset ..."
   ]
  },
  {
   "cell_type": "code",
   "execution_count": 40,
   "metadata": {},
   "outputs": [
    {
     "data": {
      "text/plain": [
       "7. current_numbers      547\n",
       "3. symptoms_info        323\n",
       "2. covid_origin         247\n",
       "1. covid_intro          246\n",
       "10. how_spreading       241\n",
       "6. precautions          212\n",
       "8. medication           194\n",
       "5. emergency_contact    183\n",
       "4. symtptoms_have       175\n",
       "9. myths_hoaxes         130\n",
       "Name: Intent, dtype: int64"
      ]
     },
     "execution_count": 40,
     "metadata": {},
     "output_type": "execute_result"
    }
   ],
   "source": [
    "transperfect_dataset.Intent.value_counts()"
   ]
  },
  {
   "cell_type": "code",
   "execution_count": 41,
   "metadata": {},
   "outputs": [
    {
     "data": {
      "text/plain": [
       "covid_treatments                  33\n",
       "covid_symptoms                    25\n",
       "ask_for_stats                     25\n",
       "covid_protection                  21\n",
       "covid_gloves                      19\n",
       "covid_masks_effectiveness         17\n",
       "covid_infection_sources           14\n",
       "covid_masks_how_to                13\n",
       "covid_what_is_corona_covid-19     10\n",
       "covid_call_a_doctor               10\n",
       "covid_myth_hot_tea                10\n",
       "covid_risk_most_at_risk            9\n",
       "covid_protection_wash_hands        9\n",
       "covid_how_spread                   9\n",
       "covid_hospital                     8\n",
       "covid_wash_hands_how               7\n",
       "covid_myth_antibiotics             7\n",
       "covid_myth_UV                      7\n",
       "covid_myth_only_old                7\n",
       "covid_myth_mosquitos               7\n",
       "covid_stress                       6\n",
       "covid_SARS                         6\n",
       "covid_explain_pandemic             6\n",
       "covid_disinfect                    6\n",
       "covid_protection_keep_distance     5\n",
       "Name: Intent, dtype: int64"
      ]
     },
     "execution_count": 41,
     "metadata": {},
     "output_type": "execute_result"
    }
   ],
   "source": [
    "twb_dataset.Intent.value_counts()"
   ]
  },
  {
   "cell_type": "markdown",
   "metadata": {},
   "source": [
    "### Text Preprocessing "
   ]
  },
  {
   "cell_type": "markdown",
   "metadata": {},
   "source": [
    "In the following section we will perform text preprocessing for our both dataset and at the end of this section we will have our cleaned dataset were we can perform any datascience task."
   ]
  },
  {
   "cell_type": "markdown",
   "metadata": {},
   "source": [
    "We will use Spacy and NlTk package , here are the steps we will perform in this stage..."
   ]
  },
  {
   "cell_type": "markdown",
   "metadata": {},
   "source": [
    "- Contraction removal , we will remove contraction words and replace what's == >  what is , it's == > it is , don't ==> do not , etc\n",
    "-  The first step will be tokenization: this will consist of splitting each sentence into token, or word\n",
    "-  Stemming or lemmatization will consist of replacing each word or token with their root word or word they derived.\n",
    "-  Stop word removal\n",
    "-  Spell checking  : here we will check words that are misspelled and correct them with the correction.\n",
    "- We can also add name entity recognition techniques to detect entities such as person names and countries."
   ]
  },
  {
   "cell_type": "code",
   "execution_count": 42,
   "metadata": {},
   "outputs": [],
   "source": [
    "#! python -m spacy download en_core_web_sm"
   ]
  },
  {
   "cell_type": "code",
   "execution_count": 43,
   "metadata": {},
   "outputs": [
    {
     "name": "stderr",
     "output_type": "stream",
     "text": [
      "[nltk_data] Downloading package stopwords to /Users/es.py/nltk_data...\n",
      "[nltk_data]   Package stopwords is already up-to-date!\n"
     ]
    },
    {
     "data": {
      "text/plain": [
       "True"
      ]
     },
     "execution_count": 43,
     "metadata": {},
     "output_type": "execute_result"
    }
   ],
   "source": [
    "import spacy \n",
    "import nltk\n",
    "import re\n",
    "nlp = spacy.load('en_core_web_sm', parse = True, tag=True, entity=True)\n",
    "from nltk.corpus import stopwords\n",
    "nltk.download('stopwords')"
   ]
  },
  {
   "cell_type": "markdown",
   "metadata": {},
   "source": [
    "### Removing contractions "
   ]
  },
  {
   "cell_type": "markdown",
   "metadata": {},
   "source": [
    "From [this](https://towardsdatascience.com/a-practitioners-guide-to-natural-language-processing-part-i-processing-understanding-text-9f4abfd13e72) blog we can read :\n",
    "Contractions are shortened version of words or syllables. They often exist in either written or spoken forms in the English language. These shortened versions or contractions of words are created by removing specific letters and sounds. In case of English contractions, they are often created by removing one of the vowels from the word. Examples would be, do not to don’t and I would to I’d. Converting each contraction to its expanded, original form helps with text standardization.\n",
    "\n",
    "\n",
    "Thans to this repo, becasuse from [this](https://github.com/dipanjanS/practical-machine-learning-with-python/blob/master/bonus%20content/nlp%20proven%20approach/contractions.py) we can find list of all contraction s"
   ]
  },
  {
   "cell_type": "code",
   "execution_count": 44,
   "metadata": {},
   "outputs": [],
   "source": [
    "CONTRACTION_MAP = {\n",
    "\"ain't\": \"is not\",\n",
    "\"aren't\": \"are not\",\n",
    "\"can't\": \"cannot\",\n",
    "\"can't've\": \"cannot have\",\n",
    "\"'cause\": \"because\",\n",
    "\"could've\": \"could have\",\n",
    "\"couldn't\": \"could not\",\n",
    "\"couldn't've\": \"could not have\",\n",
    "\"didn't\": \"did not\",\n",
    "\"doesn't\": \"does not\",\n",
    "\"don't\": \"do not\",\n",
    "\"hadn't\": \"had not\",\n",
    "\"hadn't've\": \"had not have\",\n",
    "\"hasn't\": \"has not\",\n",
    "\"haven't\": \"have not\",\n",
    "\"he'd\": \"he would\",\n",
    "\"he'd've\": \"he would have\",\n",
    "\"he'll\": \"he will\",\n",
    "\"he'll've\": \"he he will have\",\n",
    "\"he's\": \"he is\",\n",
    "\"how'd\": \"how did\",\n",
    "\"how'd'y\": \"how do you\",\n",
    "\"how'll\": \"how will\",\n",
    "\"how's\": \"how is\",\n",
    "\"I'd\": \"I would\",\n",
    "\"I'd've\": \"I would have\",\n",
    "\"I'll\": \"I will\",\n",
    "\"I'll've\": \"I will have\",\n",
    "\"I'm\": \"I am\",\n",
    "\"I've\": \"I have\",\n",
    "\"i'd\": \"i would\",\n",
    "\"i'd've\": \"i would have\",\n",
    "\"i'll\": \"i will\",\n",
    "\"i'll've\": \"i will have\",\n",
    "\"i'm\": \"i am\",\n",
    "\"i've\": \"i have\",\n",
    "\"isn't\": \"is not\",\n",
    "\"it'd\": \"it would\",\n",
    "\"it'd've\": \"it would have\",\n",
    "\"it'll\": \"it will\",\n",
    "\"it'll've\": \"it will have\",\n",
    "\"it's\": \"it is\",\n",
    "\"let's\": \"let us\",\n",
    "\"ma'am\": \"madam\",\n",
    "\"mayn't\": \"may not\",\n",
    "\"might've\": \"might have\",\n",
    "\"mightn't\": \"might not\",\n",
    "\"mightn't've\": \"might not have\",\n",
    "\"must've\": \"must have\",\n",
    "\"mustn't\": \"must not\",\n",
    "\"mustn't've\": \"must not have\",\n",
    "\"needn't\": \"need not\",\n",
    "\"needn't've\": \"need not have\",\n",
    "\"o'clock\": \"of the clock\",\n",
    "\"oughtn't\": \"ought not\",\n",
    "\"oughtn't've\": \"ought not have\",\n",
    "\"shan't\": \"shall not\",\n",
    "\"sha'n't\": \"shall not\",\n",
    "\"shan't've\": \"shall not have\",\n",
    "\"she'd\": \"she would\",\n",
    "\"she'd've\": \"she would have\",\n",
    "\"she'll\": \"she will\",\n",
    "\"she'll've\": \"she will have\",\n",
    "\"she's\": \"she is\",\n",
    "\"should've\": \"should have\",\n",
    "\"shouldn't\": \"should not\",\n",
    "\"shouldn't've\": \"should not have\",\n",
    "\"so've\": \"so have\",\n",
    "\"so's\": \"so as\",\n",
    "\"that'd\": \"that would\",\n",
    "\"that'd've\": \"that would have\",\n",
    "\"that's\": \"that is\",\n",
    "\"there'd\": \"there would\",\n",
    "\"there'd've\": \"there would have\",\n",
    "\"there's\": \"there is\",\n",
    "\"they'd\": \"they would\",\n",
    "\"they'd've\": \"they would have\",\n",
    "\"they'll\": \"they will\",\n",
    "\"they'll've\": \"they will have\",\n",
    "\"they're\": \"they are\",\n",
    "\"they've\": \"they have\",\n",
    "\"to've\": \"to have\",\n",
    "\"wasn't\": \"was not\",\n",
    "\"we'd\": \"we would\",\n",
    "\"we'd've\": \"we would have\",\n",
    "\"we'll\": \"we will\",\n",
    "\"we'll've\": \"we will have\",\n",
    "\"we're\": \"we are\",\n",
    "\"we've\": \"we have\",\n",
    "\"weren't\": \"were not\",\n",
    "\"what'll\": \"what will\",\n",
    "\"what'll've\": \"what will have\",\n",
    "\"what're\": \"what are\",\n",
    "\"what's\": \"what is\",\n",
    "\"what've\": \"what have\",\n",
    "\"when's\": \"when is\",\n",
    "\"when've\": \"when have\",\n",
    "\"where'd\": \"where did\",\n",
    "\"where's\": \"where is\",\n",
    "\"where've\": \"where have\",\n",
    "\"who'll\": \"who will\",\n",
    "\"who'll've\": \"who will have\",\n",
    "\"who's\": \"who is\",\n",
    "\"who've\": \"who have\",\n",
    "\"why's\": \"why is\",\n",
    "\"why've\": \"why have\",\n",
    "\"will've\": \"will have\",\n",
    "\"won't\": \"will not\",\n",
    "\"won't've\": \"will not have\",\n",
    "\"would've\": \"would have\",\n",
    "\"wouldn't\": \"would not\",\n",
    "\"wouldn't've\": \"would not have\",\n",
    "\"y'all\": \"you all\",\n",
    "\"y'all'd\": \"you all would\",\n",
    "\"y'all'd've\": \"you all would have\",\n",
    "\"y'all're\": \"you all are\",\n",
    "\"y'all've\": \"you all have\",\n",
    "\"you'd\": \"you would\",\n",
    "\"you'd've\": \"you would have\",\n",
    "\"you'll\": \"you will\",\n",
    "\"you'll've\": \"you will have\",\n",
    "\"you're\": \"you are\",\n",
    "\"you've\": \"you have\"\n",
    "}"
   ]
  },
  {
   "cell_type": "code",
   "execution_count": 73,
   "metadata": {},
   "outputs": [],
   "source": [
    "def check_mispelled_word(text):\n",
    "    text = text.lower()\n",
    "    text = text.replace('corona virus', 'coronavirus')\n",
    "    text = text.replace('covid19', 'covid-19')\n",
    "    text = text.replace('covid 19', 'covid-19')\n",
    "    text = re.sub(r'\\b{}\\b'.format(\"corona\"), \"coronavirus\", text)\n",
    "    return text"
   ]
  },
  {
   "cell_type": "code",
   "execution_count": 74,
   "metadata": {},
   "outputs": [],
   "source": [
    "def expand_contractions(text, contraction_mapping=CONTRACTION_MAP):\n",
    "    \n",
    "    contractions_pattern = re.compile('({})'.format('|'.join(contraction_mapping.keys())), \n",
    "                                      flags=re.IGNORECASE|re.DOTALL)\n",
    "    def expand_match(contraction):\n",
    "        match = contraction.group(0)\n",
    "        first_char = match[0]\n",
    "        expanded_contraction = contraction_mapping.get(match)\\\n",
    "                                if contraction_mapping.get(match)\\\n",
    "                                else contraction_mapping.get(match.lower())                       \n",
    "        expanded_contraction = first_char+expanded_contraction[1:]\n",
    "        return expanded_contraction\n",
    "        \n",
    "    expanded_text = contractions_pattern.sub(expand_match, text)\n",
    "    expanded_text = re.sub(\"'\", \"\", expanded_text)\n",
    "    return expanded_text"
   ]
  },
  {
   "cell_type": "code",
   "execution_count": 75,
   "metadata": {},
   "outputs": [
    {
     "data": {
      "text/plain": [
       "'You all cannot expand contractions I would think'"
      ]
     },
     "execution_count": 75,
     "metadata": {},
     "output_type": "execute_result"
    }
   ],
   "source": [
    "expand_contractions(\"Y'all can't expand contractions I'd think\")"
   ]
  },
  {
   "cell_type": "markdown",
   "metadata": {},
   "source": [
    "all the step in we defined in the text preprocessing phase can be performed using this function..."
   ]
  },
  {
   "cell_type": "code",
   "execution_count": 76,
   "metadata": {},
   "outputs": [],
   "source": [
    "def lemmatize_text(text):\n",
    "    text = nlp(text)\n",
    "    text = ' '.join([word.lemma_ if word.lemma_ != '-PRON-' else word.text for word in text])\n",
    "    return text"
   ]
  },
  {
   "cell_type": "code",
   "execution_count": 77,
   "metadata": {},
   "outputs": [],
   "source": [
    "def remove_stopwords(text, is_lower_case=False):\n",
    "    tokens = nltk.word_tokenize(text)\n",
    "    tokens = [token.strip() for token in tokens]\n",
    "    if is_lower_case:\n",
    "        filtered_tokens = [token for token in tokens if token not in stopwords.words()]\n",
    "    else:\n",
    "        filtered_tokens = [token for token in tokens if token.lower() not in stopwords.words()]\n",
    "    filtered_text = ' '.join(filtered_tokens)    \n",
    "    return filtered_text"
   ]
  },
  {
   "cell_type": "code",
   "execution_count": 78,
   "metadata": {},
   "outputs": [],
   "source": [
    "def preprocess_text(text, contraction_expansion=True,\n",
    "                     accented_char_removal=True, text_lower_case=True, \n",
    "                     text_lemmatization=True, special_char_removal=True, \n",
    "                     stopword_removal=True, remove_digits=True, check_mispelled_words=True):\n",
    "        # expand contractions \n",
    "    if check_mispelled_words:\n",
    "        text = check_mispelled_word(text)\n",
    "    if contraction_expansion:\n",
    "        text = expand_contractions(text)\n",
    "        # lowercase the text    \n",
    "    if text_lower_case:\n",
    "        text = text.lower()\n",
    "        # remove extra newlines\n",
    "    doc = re.sub(r'[\\r|\\n|\\r\\n]+', ' ',text)\n",
    "        # lemmatize text\n",
    "    if text_lemmatization:\n",
    "        text = lemmatize_text(text)\n",
    "    text = re.sub(' +', ' ', text)\n",
    "        # remove stopwords\n",
    "    if stopword_removal:\n",
    "        text = remove_stopwords(text, is_lower_case=text_lower_case)\n",
    "    return text"
   ]
  },
  {
   "cell_type": "code",
   "execution_count": 79,
   "metadata": {},
   "outputs": [],
   "source": [
    "twb_dataset['questions_cleanned'] = twb_dataset.Question.apply(preprocess_text, stopword_removal=False)\n",
    "transperfect_dataset['questions_cleanned'] = transperfect_dataset.Question.apply(preprocess_text, stopword_removal=False)"
   ]
  },
  {
   "cell_type": "code",
   "execution_count": 80,
   "metadata": {},
   "outputs": [
    {
     "data": {
      "text/html": [
       "<div>\n",
       "<style scoped>\n",
       "    .dataframe tbody tr th:only-of-type {\n",
       "        vertical-align: middle;\n",
       "    }\n",
       "\n",
       "    .dataframe tbody tr th {\n",
       "        vertical-align: top;\n",
       "    }\n",
       "\n",
       "    .dataframe thead th {\n",
       "        text-align: right;\n",
       "    }\n",
       "</style>\n",
       "<table border=\"1\" class=\"dataframe\">\n",
       "  <thead>\n",
       "    <tr style=\"text-align: right;\">\n",
       "      <th></th>\n",
       "      <th>Intent</th>\n",
       "      <th>Question</th>\n",
       "      <th>questions_cleanned</th>\n",
       "    </tr>\n",
       "  </thead>\n",
       "  <tbody>\n",
       "    <tr>\n",
       "      <th>0</th>\n",
       "      <td>ask_for_stats</td>\n",
       "      <td>What are the current COVID-19 statistics for DRC?</td>\n",
       "      <td>what be the current covid-19 statistic for drc ?</td>\n",
       "    </tr>\n",
       "    <tr>\n",
       "      <th>1</th>\n",
       "      <td>ask_for_stats</td>\n",
       "      <td>Statistics for DRC?</td>\n",
       "      <td>statistic for drc ?</td>\n",
       "    </tr>\n",
       "    <tr>\n",
       "      <th>2</th>\n",
       "      <td>ask_for_stats</td>\n",
       "      <td>What's the total number of people tested posit...</td>\n",
       "      <td>what be the total number of people test positi...</td>\n",
       "    </tr>\n",
       "    <tr>\n",
       "      <th>3</th>\n",
       "      <td>ask_for_stats</td>\n",
       "      <td>How many people have tested positive for coron...</td>\n",
       "      <td>how many people have test positive for coronav...</td>\n",
       "    </tr>\n",
       "    <tr>\n",
       "      <th>4</th>\n",
       "      <td>ask_for_stats</td>\n",
       "      <td>If I am away from someone who is infected, I w...</td>\n",
       "      <td>if i be away from someone who be infect , i wi...</td>\n",
       "    </tr>\n",
       "  </tbody>\n",
       "</table>\n",
       "</div>"
      ],
      "text/plain": [
       "          Intent                                           Question  \\\n",
       "0  ask_for_stats  What are the current COVID-19 statistics for DRC?   \n",
       "1  ask_for_stats                                Statistics for DRC?   \n",
       "2  ask_for_stats  What's the total number of people tested posit...   \n",
       "3  ask_for_stats  How many people have tested positive for coron...   \n",
       "4  ask_for_stats  If I am away from someone who is infected, I w...   \n",
       "\n",
       "                                  questions_cleanned  \n",
       "0   what be the current covid-19 statistic for drc ?  \n",
       "1                                statistic for drc ?  \n",
       "2  what be the total number of people test positi...  \n",
       "3  how many people have test positive for coronav...  \n",
       "4  if i be away from someone who be infect , i wi...  "
      ]
     },
     "execution_count": 80,
     "metadata": {},
     "output_type": "execute_result"
    }
   ],
   "source": [
    "twb_dataset.head()"
   ]
  },
  {
   "cell_type": "code",
   "execution_count": 81,
   "metadata": {},
   "outputs": [
    {
     "data": {
      "text/html": [
       "<div>\n",
       "<style scoped>\n",
       "    .dataframe tbody tr th:only-of-type {\n",
       "        vertical-align: middle;\n",
       "    }\n",
       "\n",
       "    .dataframe tbody tr th {\n",
       "        vertical-align: top;\n",
       "    }\n",
       "\n",
       "    .dataframe thead th {\n",
       "        text-align: right;\n",
       "    }\n",
       "</style>\n",
       "<table border=\"1\" class=\"dataframe\">\n",
       "  <thead>\n",
       "    <tr style=\"text-align: right;\">\n",
       "      <th></th>\n",
       "      <th>Intent</th>\n",
       "      <th>Question</th>\n",
       "      <th>questions_cleanned</th>\n",
       "    </tr>\n",
       "  </thead>\n",
       "  <tbody>\n",
       "    <tr>\n",
       "      <th>0</th>\n",
       "      <td>1. covid_intro</td>\n",
       "      <td>Are corona virus and COVID-19 different?</td>\n",
       "      <td>be coronavirus and covid-19 different ?</td>\n",
       "    </tr>\n",
       "    <tr>\n",
       "      <th>1</th>\n",
       "      <td>1. covid_intro</td>\n",
       "      <td>are coronavirus and covid 19 the same</td>\n",
       "      <td>be coronavirus and covid-19 the same</td>\n",
       "    </tr>\n",
       "    <tr>\n",
       "      <th>2</th>\n",
       "      <td>1. covid_intro</td>\n",
       "      <td>are coronaviruses common</td>\n",
       "      <td>be coronaviruse common</td>\n",
       "    </tr>\n",
       "    <tr>\n",
       "      <th>3</th>\n",
       "      <td>1. covid_intro</td>\n",
       "      <td>are coronaviruses seasonal</td>\n",
       "      <td>be coronaviruse seasonal</td>\n",
       "    </tr>\n",
       "    <tr>\n",
       "      <th>4</th>\n",
       "      <td>1. covid_intro</td>\n",
       "      <td>can covid-19 mutate</td>\n",
       "      <td>can covid-19 mutate</td>\n",
       "    </tr>\n",
       "  </tbody>\n",
       "</table>\n",
       "</div>"
      ],
      "text/plain": [
       "            Intent                                  Question  \\\n",
       "0  1. covid_intro   Are corona virus and COVID-19 different?   \n",
       "1  1. covid_intro      are coronavirus and covid 19 the same   \n",
       "2  1. covid_intro                   are coronaviruses common   \n",
       "3  1. covid_intro                 are coronaviruses seasonal   \n",
       "4  1. covid_intro                        can covid-19 mutate   \n",
       "\n",
       "                        questions_cleanned  \n",
       "0  be coronavirus and covid-19 different ?  \n",
       "1     be coronavirus and covid-19 the same  \n",
       "2                   be coronaviruse common  \n",
       "3                 be coronaviruse seasonal  \n",
       "4                      can covid-19 mutate  "
      ]
     },
     "execution_count": 81,
     "metadata": {},
     "output_type": "execute_result"
    }
   ],
   "source": [
    "transperfect_dataset.head()"
   ]
  },
  {
   "cell_type": "code",
   "execution_count": 142,
   "metadata": {},
   "outputs": [],
   "source": [
    "twb_dataset = twb_dataset[twb_dataset.questions_cleanned.notna()]"
   ]
  },
  {
   "cell_type": "code",
   "execution_count": 143,
   "metadata": {},
   "outputs": [],
   "source": [
    "transperfect_dataset = transperfect_dataset.drop_duplicates(subset='Question')"
   ]
  },
  {
   "cell_type": "markdown",
   "metadata": {},
   "source": [
    "At this stage we have a cleanned dataset , we can already start thinking about trainning our machine learning models "
   ]
  },
  {
   "cell_type": "markdown",
   "metadata": {},
   "source": [
    "## Training Phase "
   ]
  },
  {
   "cell_type": "markdown",
   "metadata": {},
   "source": [
    "### Naives bayes \n",
    "\n",
    "The first classifier I will try for this problem is naives bayes.\n",
    "Whys should we try it?\n",
    "\n",
    "One of his advantages is that it perform well on problem with small training example, and since our dataset seems to be unbalancled , naive bayes will take that into account by considering distribution of the differents classes \n"
   ]
  },
  {
   "cell_type": "code",
   "execution_count": 144,
   "metadata": {},
   "outputs": [
    {
     "data": {
      "text/plain": [
       "array([33, 25, 25, 21, 19, 17, 14, 13, 10, 10, 10,  9,  9,  9,  8,  7,  7,\n",
       "        7,  7,  7,  6,  6,  6,  6,  5])"
      ]
     },
     "execution_count": 144,
     "metadata": {},
     "output_type": "execute_result"
    }
   ],
   "source": [
    "twb_dataset.Intent.value_counts().index\n",
    "twb_dataset.Intent.value_counts().values"
   ]
  },
  {
   "cell_type": "code",
   "execution_count": 145,
   "metadata": {},
   "outputs": [
    {
     "ename": "AttributeError",
     "evalue": "'AxesSubplot' object has no attribute 'set_xtick'",
     "output_type": "error",
     "traceback": [
      "\u001b[0;31m---------------------------------------------------------------------------\u001b[0m",
      "\u001b[0;31mAttributeError\u001b[0m                            Traceback (most recent call last)",
      "\u001b[0;32m<ipython-input-145-978ebbb2a662>\u001b[0m in \u001b[0;36m<module>\u001b[0;34m\u001b[0m\n\u001b[1;32m      3\u001b[0m \u001b[0max\u001b[0m\u001b[0;34m.\u001b[0m\u001b[0mbar\u001b[0m\u001b[0;34m(\u001b[0m\u001b[0mtwb_dataset\u001b[0m\u001b[0;34m.\u001b[0m\u001b[0mIntent\u001b[0m\u001b[0;34m.\u001b[0m\u001b[0mvalue_counts\u001b[0m\u001b[0;34m(\u001b[0m\u001b[0;34m)\u001b[0m\u001b[0;34m.\u001b[0m\u001b[0mindex\u001b[0m\u001b[0;34m,\u001b[0m \u001b[0mtwb_dataset\u001b[0m\u001b[0;34m.\u001b[0m\u001b[0mIntent\u001b[0m\u001b[0;34m.\u001b[0m\u001b[0mvalue_counts\u001b[0m\u001b[0;34m(\u001b[0m\u001b[0;34m)\u001b[0m\u001b[0;34m.\u001b[0m\u001b[0mvalues\u001b[0m\u001b[0;34m)\u001b[0m\u001b[0;34m\u001b[0m\u001b[0m\n\u001b[1;32m      4\u001b[0m \u001b[0max\u001b[0m\u001b[0;34m.\u001b[0m\u001b[0mset_title\u001b[0m\u001b[0;34m(\u001b[0m\u001b[0;34m'Number of questions per intent'\u001b[0m\u001b[0;34m)\u001b[0m\u001b[0;34m\u001b[0m\u001b[0m\n\u001b[0;32m----> 5\u001b[0;31m \u001b[0max\u001b[0m\u001b[0;34m.\u001b[0m\u001b[0mset_xtick\u001b[0m\u001b[0;34m(\u001b[0m\u001b[0mrotation\u001b[0m\u001b[0;34m=\u001b[0m\u001b[0;36m90\u001b[0m\u001b[0;34m)\u001b[0m\u001b[0;34m\u001b[0m\u001b[0m\n\u001b[0m",
      "\u001b[0;31mAttributeError\u001b[0m: 'AxesSubplot' object has no attribute 'set_xtick'"
     ]
    },
    {
     "data": {
      "image/png": "[encoded data removed]",
      "text/plain": [
       "<Figure size 576x432 with 1 Axes>"
      ]
     },
     "metadata": {
      "needs_background": "light"
     },
     "output_type": "display_data"
    }
   ],
   "source": [
    "import matplotlib.pyplot as plt\n",
    "fig, ax = plt.subplots(figsize=(8, 6))\n",
    "ax.bar(twb_dataset.Intent.value_counts().index, twb_dataset.Intent.value_counts().values)\n",
    "ax.set_title('Number of questions per intent')\n",
    "ax.set_xtick(rotation=90)"
   ]
  },
  {
   "cell_type": "code",
   "execution_count": null,
   "metadata": {},
   "outputs": [],
   "source": [
    "twb_dataset.Intent.value_counts().plot.bar(ylim=0)\n",
    "plt.show()"
   ]
  },
  {
   "cell_type": "markdown",
   "metadata": {},
   "source": [
    "Now let us train our classifier , we will be using the Multinomial Naives Bayes classifier from sklearn , since we have more than 2 classes in our intent dataset"
   ]
  },
  {
   "cell_type": "code",
   "execution_count": 146,
   "metadata": {},
   "outputs": [],
   "source": [
    "from sklearn.naive_bayes import MultinomialNB\n",
    "from sklearn.pipeline import Pipeline\n",
    "from sklearn.feature_extraction.text import TfidfTransformer\n",
    "from sklearn.feature_extraction.text import CountVectorizer"
   ]
  },
  {
   "cell_type": "code",
   "execution_count": 147,
   "metadata": {},
   "outputs": [],
   "source": [
    "naive_bayes_pipeline = Pipeline([('vect', CountVectorizer(stop_words='english')),\n",
    "               ('tfidf', TfidfTransformer()),\n",
    "               ('clf', MultinomialNB()),\n",
    "              ])"
   ]
  },
  {
   "cell_type": "code",
   "execution_count": 148,
   "metadata": {},
   "outputs": [],
   "source": [
    "X , Y = twb_dataset.questions_cleanned, twb_dataset.Intent"
   ]
  },
  {
   "cell_type": "code",
   "execution_count": 149,
   "metadata": {},
   "outputs": [
    {
     "data": {
      "text/plain": [
       "Pipeline(memory=None,\n",
       "         steps=[('vect',\n",
       "                 CountVectorizer(analyzer='word', binary=False,\n",
       "                                 decode_error='strict',\n",
       "                                 dtype=<class 'numpy.int64'>, encoding='utf-8',\n",
       "                                 input='content', lowercase=True, max_df=1.0,\n",
       "                                 max_features=None, min_df=1,\n",
       "                                 ngram_range=(1, 1), preprocessor=None,\n",
       "                                 stop_words='english', strip_accents=None,\n",
       "                                 token_pattern='(?u)\\\\b\\\\w\\\\w+\\\\b',\n",
       "                                 tokenizer=None, vocabulary=None)),\n",
       "                ('tfidf',\n",
       "                 TfidfTransformer(norm='l2', smooth_idf=True,\n",
       "                                  sublinear_tf=False, use_idf=True)),\n",
       "                ('clf',\n",
       "                 MultinomialNB(alpha=1.0, class_prior=None, fit_prior=True))],\n",
       "         verbose=False)"
      ]
     },
     "execution_count": 149,
     "metadata": {},
     "output_type": "execute_result"
    }
   ],
   "source": [
    "naive_bayes_pipeline.fit(X, Y)"
   ]
  },
  {
   "cell_type": "markdown",
   "metadata": {},
   "source": [
    "once our classifier is fit we can try to predict the intent of one sentence "
   ]
  },
  {
   "cell_type": "code",
   "execution_count": 150,
   "metadata": {},
   "outputs": [
    {
     "data": {
      "text/plain": [
       "array(['ask_for_stats'], dtype='<U30')"
      ]
     },
     "execution_count": 150,
     "metadata": {},
     "output_type": "execute_result"
    }
   ],
   "source": [
    "naive_bayes_pipeline.predict(['statistic for rwanda'])"
   ]
  },
  {
   "cell_type": "code",
   "execution_count": 169,
   "metadata": {},
   "outputs": [
    {
     "data": {
      "text/plain": [
       "0.6148648648648649"
      ]
     },
     "execution_count": 169,
     "metadata": {},
     "output_type": "execute_result"
    }
   ],
   "source": [
    "naibe_bayes_pipeline.score(X, Y)"
   ]
  },
  {
   "cell_type": "code",
   "execution_count": null,
   "metadata": {},
   "outputs": [],
   "source": [
    "We end up having a model with mean score of 61% which is very small, let us try another metric to evaluate the model..."
   ]
  },
  {
   "cell_type": "markdown",
   "metadata": {},
   "source": [
    "let us now try to evaluate the model using leave one out cross validation techinic"
   ]
  },
  {
   "cell_type": "code",
   "execution_count": 151,
   "metadata": {},
   "outputs": [],
   "source": [
    "from sklearn.model_selection import LeaveOneOut\n",
    "from sklearn.metrics import accuracy_score"
   ]
  },
  {
   "cell_type": "code",
   "execution_count": 164,
   "metadata": {},
   "outputs": [],
   "source": [
    "X = X.reset_index()\n",
    "Y = Y.reset_index()"
   ]
  },
  {
   "cell_type": "code",
   "execution_count": 165,
   "metadata": {},
   "outputs": [],
   "source": [
    "X = X.questions_cleanned\n",
    "Y = Y.Intent"
   ]
  },
  {
   "cell_type": "code",
   "execution_count": 168,
   "metadata": {},
   "outputs": [
    {
     "data": {
      "text/plain": [
       "(array([ 0,  1,  2,  3,  4,  5,  6,  7,  8,  9, 10, 11, 12, 13, 14, 15, 16,\n",
       "        17, 18, 19, 20, 21, 22, 23, 24]),)"
      ]
     },
     "execution_count": 168,
     "metadata": {},
     "output_type": "execute_result"
    }
   ],
   "source": [
    "np.where(Y == 'ask_for_stats')"
   ]
  },
  {
   "cell_type": "code",
   "execution_count": 167,
   "metadata": {},
   "outputs": [
    {
     "name": "stdout",
     "output_type": "stream",
     "text": [
      "0    ask_for_stats\n",
      "Name: Intent, dtype: object ['ask_for_stats']\n",
      "1    ask_for_stats\n",
      "Name: Intent, dtype: object ['ask_for_stats']\n"
     ]
    },
    {
     "ename": "KeyError",
     "evalue": "0",
     "output_type": "error",
     "traceback": [
      "\u001b[0;31m---------------------------------------------------------------------------\u001b[0m",
      "\u001b[0;31mKeyError\u001b[0m                                  Traceback (most recent call last)",
      "\u001b[0;32m<ipython-input-167-441ebaf75761>\u001b[0m in \u001b[0;36m<module>\u001b[0;34m\u001b[0m\n\u001b[1;32m      7\u001b[0m     \u001b[0myhat\u001b[0m \u001b[0;34m=\u001b[0m \u001b[0mnaive_bayes_pipeline\u001b[0m\u001b[0;34m.\u001b[0m\u001b[0mpredict\u001b[0m\u001b[0;34m(\u001b[0m\u001b[0mX_test\u001b[0m\u001b[0;34m)\u001b[0m\u001b[0;34m\u001b[0m\u001b[0m\n\u001b[1;32m      8\u001b[0m     \u001b[0mprint\u001b[0m\u001b[0;34m(\u001b[0m\u001b[0my_test\u001b[0m\u001b[0;34m,\u001b[0m \u001b[0myhat\u001b[0m\u001b[0;34m)\u001b[0m\u001b[0;34m\u001b[0m\u001b[0m\n\u001b[0;32m----> 9\u001b[0;31m     \u001b[0my_true\u001b[0m\u001b[0;34m.\u001b[0m\u001b[0mappend\u001b[0m\u001b[0;34m(\u001b[0m\u001b[0my_test\u001b[0m\u001b[0;34m[\u001b[0m\u001b[0;36m0\u001b[0m\u001b[0;34m]\u001b[0m\u001b[0;34m)\u001b[0m\u001b[0;34m\u001b[0m\u001b[0m\n\u001b[0m\u001b[1;32m     10\u001b[0m     \u001b[0my_pred\u001b[0m\u001b[0;34m.\u001b[0m\u001b[0mappend\u001b[0m\u001b[0;34m(\u001b[0m\u001b[0myhat\u001b[0m\u001b[0;34m[\u001b[0m\u001b[0;36m0\u001b[0m\u001b[0;34m]\u001b[0m\u001b[0;34m)\u001b[0m\u001b[0;34m\u001b[0m\u001b[0m\n\u001b[1;32m     11\u001b[0m \u001b[0;31m# calculate accuracy\u001b[0m\u001b[0;34m\u001b[0m\u001b[0;34m\u001b[0m\u001b[0m\n",
      "\u001b[0;32m~/.pyenv/versions/3.6.5/lib/python3.6/site-packages/pandas/core/series.py\u001b[0m in \u001b[0;36m__getitem__\u001b[0;34m(self, key)\u001b[0m\n\u001b[1;32m    866\u001b[0m         \u001b[0mkey\u001b[0m \u001b[0;34m=\u001b[0m \u001b[0mcom\u001b[0m\u001b[0;34m.\u001b[0m\u001b[0mapply_if_callable\u001b[0m\u001b[0;34m(\u001b[0m\u001b[0mkey\u001b[0m\u001b[0;34m,\u001b[0m \u001b[0mself\u001b[0m\u001b[0;34m)\u001b[0m\u001b[0;34m\u001b[0m\u001b[0m\n\u001b[1;32m    867\u001b[0m         \u001b[0;32mtry\u001b[0m\u001b[0;34m:\u001b[0m\u001b[0;34m\u001b[0m\u001b[0m\n\u001b[0;32m--> 868\u001b[0;31m             \u001b[0mresult\u001b[0m \u001b[0;34m=\u001b[0m \u001b[0mself\u001b[0m\u001b[0;34m.\u001b[0m\u001b[0mindex\u001b[0m\u001b[0;34m.\u001b[0m\u001b[0mget_value\u001b[0m\u001b[0;34m(\u001b[0m\u001b[0mself\u001b[0m\u001b[0;34m,\u001b[0m \u001b[0mkey\u001b[0m\u001b[0;34m)\u001b[0m\u001b[0;34m\u001b[0m\u001b[0m\n\u001b[0m\u001b[1;32m    869\u001b[0m \u001b[0;34m\u001b[0m\u001b[0m\n\u001b[1;32m    870\u001b[0m             \u001b[0;32mif\u001b[0m \u001b[0;32mnot\u001b[0m \u001b[0mis_scalar\u001b[0m\u001b[0;34m(\u001b[0m\u001b[0mresult\u001b[0m\u001b[0;34m)\u001b[0m\u001b[0;34m:\u001b[0m\u001b[0;34m\u001b[0m\u001b[0m\n",
      "\u001b[0;32m~/.pyenv/versions/3.6.5/lib/python3.6/site-packages/pandas/core/indexes/base.py\u001b[0m in \u001b[0;36mget_value\u001b[0;34m(self, series, key)\u001b[0m\n\u001b[1;32m   4373\u001b[0m         \u001b[0;32mtry\u001b[0m\u001b[0;34m:\u001b[0m\u001b[0;34m\u001b[0m\u001b[0m\n\u001b[1;32m   4374\u001b[0m             return self._engine.get_value(s, k,\n\u001b[0;32m-> 4375\u001b[0;31m                                           tz=getattr(series.dtype, 'tz', None))\n\u001b[0m\u001b[1;32m   4376\u001b[0m         \u001b[0;32mexcept\u001b[0m \u001b[0mKeyError\u001b[0m \u001b[0;32mas\u001b[0m \u001b[0me1\u001b[0m\u001b[0;34m:\u001b[0m\u001b[0;34m\u001b[0m\u001b[0m\n\u001b[1;32m   4377\u001b[0m             \u001b[0;32mif\u001b[0m \u001b[0mlen\u001b[0m\u001b[0;34m(\u001b[0m\u001b[0mself\u001b[0m\u001b[0;34m)\u001b[0m \u001b[0;34m>\u001b[0m \u001b[0;36m0\u001b[0m \u001b[0;32mand\u001b[0m \u001b[0;34m(\u001b[0m\u001b[0mself\u001b[0m\u001b[0;34m.\u001b[0m\u001b[0mholds_integer\u001b[0m\u001b[0;34m(\u001b[0m\u001b[0;34m)\u001b[0m \u001b[0;32mor\u001b[0m \u001b[0mself\u001b[0m\u001b[0;34m.\u001b[0m\u001b[0mis_boolean\u001b[0m\u001b[0;34m(\u001b[0m\u001b[0;34m)\u001b[0m\u001b[0;34m)\u001b[0m\u001b[0;34m:\u001b[0m\u001b[0;34m\u001b[0m\u001b[0m\n",
      "\u001b[0;32mpandas/_libs/index.pyx\u001b[0m in \u001b[0;36mpandas._libs.index.IndexEngine.get_value\u001b[0;34m()\u001b[0m\n",
      "\u001b[0;32mpandas/_libs/index.pyx\u001b[0m in \u001b[0;36mpandas._libs.index.IndexEngine.get_value\u001b[0;34m()\u001b[0m\n",
      "\u001b[0;32mpandas/_libs/index.pyx\u001b[0m in \u001b[0;36mpandas._libs.index.IndexEngine.get_loc\u001b[0;34m()\u001b[0m\n",
      "\u001b[0;32mpandas/_libs/hashtable_class_helper.pxi\u001b[0m in \u001b[0;36mpandas._libs.hashtable.Int64HashTable.get_item\u001b[0;34m()\u001b[0m\n",
      "\u001b[0;32mpandas/_libs/hashtable_class_helper.pxi\u001b[0m in \u001b[0;36mpandas._libs.hashtable.Int64HashTable.get_item\u001b[0;34m()\u001b[0m\n",
      "\u001b[0;31mKeyError\u001b[0m: 0"
     ]
    }
   ],
   "source": [
    "cross_validated = LeaveOneOut()\n",
    "y_true, y_pred = list(), list()\n",
    "for train_ix, test_ix in cross_validated.split(X):\n",
    "    X_train, X_test = X[train_ix], X[test_ix]\n",
    "    y_train, y_test = Y[train_ix], Y[test_ix]\n",
    "    naive_bayes_pipeline.fit(X_train, y_train)\n",
    "    yhat = naive_bayes_pipeline.predict(X_test)  \n",
    "    y_true.append(y_test[0])\n",
    "    y_pred.append(yhat[0])\n",
    "# calculate accuracy\n",
    "acc = accuracy_score(y_true, y_pred)\n",
    "print('Accuracy: {}.3f'.fromat(acc))"
   ]
  },
  {
   "cell_type": "code",
   "execution_count": null,
   "metadata": {},
   "outputs": [],
   "source": []
  }
 ],
 "metadata": {
  "kernelspec": {
   "display_name": "Python 3",
   "language": "python",
   "name": "python3"
  },
  "language_info": {
   "codemirror_mode": {
    "name": "ipython",
    "version": 3
   },
   "file_extension": ".py",
   "mimetype": "text/x-python",
   "name": "python",
   "nbconvert_exporter": "python",
   "pygments_lexer": "ipython3",
   "version": "3.6.5"
  }
 },
 "nbformat": 4,
 "nbformat_minor": 2
}
